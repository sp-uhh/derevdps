{
 "cells": [
  {
   "cell_type": "code",
   "execution_count": 21,
   "metadata": {},
   "outputs": [
    {
     "data": {
      "text/plain": [
       "ScoreModel(\n",
       "  (dnn): NCSNpp(\n",
       "    (act): SiLU()\n",
       "    (output_layer): Conv2d(2, 2, kernel_size=(1, 1), stride=(1, 1))\n",
       "    (pyramid_upsample): Upsample()\n",
       "    (pyramid_downsample): Downsample()\n",
       "    (all_modules): ModuleList(\n",
       "      (0): GaussianFourierProjection()\n",
       "      (1): Linear(in_features=256, out_features=512, bias=True)\n",
       "      (2): Linear(in_features=512, out_features=512, bias=True)\n",
       "      (3): Conv2d(2, 128, kernel_size=(3, 3), stride=(1, 1), padding=(1, 1))\n",
       "      (4): ResnetBlockBigGANpp(\n",
       "        (GroupNorm_0): GroupNorm(32, 128, eps=1e-06, affine=True)\n",
       "        (Conv_0): Conv2d(128, 128, kernel_size=(3, 3), stride=(1, 1), padding=(1, 1))\n",
       "        (Dense_0): Linear(in_features=512, out_features=128, bias=True)\n",
       "        (GroupNorm_1): GroupNorm(32, 128, eps=1e-06, affine=True)\n",
       "        (Dropout_0): Dropout(p=0.0, inplace=False)\n",
       "        (Conv_1): Conv2d(128, 128, kernel_size=(3, 3), stride=(1, 1), padding=(1, 1))\n",
       "        (act): SiLU()\n",
       "      )\n",
       "      (5): ResnetBlockBigGANpp(\n",
       "        (GroupNorm_0): GroupNorm(32, 128, eps=1e-06, affine=True)\n",
       "        (Conv_0): Conv2d(128, 128, kernel_size=(3, 3), stride=(1, 1), padding=(1, 1))\n",
       "        (Dense_0): Linear(in_features=512, out_features=128, bias=True)\n",
       "        (GroupNorm_1): GroupNorm(32, 128, eps=1e-06, affine=True)\n",
       "        (Dropout_0): Dropout(p=0.0, inplace=False)\n",
       "        (Conv_1): Conv2d(128, 128, kernel_size=(3, 3), stride=(1, 1), padding=(1, 1))\n",
       "        (Conv_2): Conv2d(128, 128, kernel_size=(1, 1), stride=(1, 1))\n",
       "        (act): SiLU()\n",
       "      )\n",
       "      (6): Combine(\n",
       "        (Conv_0): Conv2d(2, 128, kernel_size=(1, 1), stride=(1, 1))\n",
       "      )\n",
       "      (7): ResnetBlockBigGANpp(\n",
       "        (GroupNorm_0): GroupNorm(32, 128, eps=1e-06, affine=True)\n",
       "        (Conv_0): Conv2d(128, 256, kernel_size=(3, 3), stride=(1, 1), padding=(1, 1))\n",
       "        (Dense_0): Linear(in_features=512, out_features=256, bias=True)\n",
       "        (GroupNorm_1): GroupNorm(32, 256, eps=1e-06, affine=True)\n",
       "        (Dropout_0): Dropout(p=0.0, inplace=False)\n",
       "        (Conv_1): Conv2d(256, 256, kernel_size=(3, 3), stride=(1, 1), padding=(1, 1))\n",
       "        (Conv_2): Conv2d(128, 256, kernel_size=(1, 1), stride=(1, 1))\n",
       "        (act): SiLU()\n",
       "      )\n",
       "      (8): ResnetBlockBigGANpp(\n",
       "        (GroupNorm_0): GroupNorm(32, 256, eps=1e-06, affine=True)\n",
       "        (Conv_0): Conv2d(256, 256, kernel_size=(3, 3), stride=(1, 1), padding=(1, 1))\n",
       "        (Dense_0): Linear(in_features=512, out_features=256, bias=True)\n",
       "        (GroupNorm_1): GroupNorm(32, 256, eps=1e-06, affine=True)\n",
       "        (Dropout_0): Dropout(p=0.0, inplace=False)\n",
       "        (Conv_1): Conv2d(256, 256, kernel_size=(3, 3), stride=(1, 1), padding=(1, 1))\n",
       "        (Conv_2): Conv2d(256, 256, kernel_size=(1, 1), stride=(1, 1))\n",
       "        (act): SiLU()\n",
       "      )\n",
       "      (9): Combine(\n",
       "        (Conv_0): Conv2d(2, 256, kernel_size=(1, 1), stride=(1, 1))\n",
       "      )\n",
       "      (10): ResnetBlockBigGANpp(\n",
       "        (GroupNorm_0): GroupNorm(32, 256, eps=1e-06, affine=True)\n",
       "        (Conv_0): Conv2d(256, 256, kernel_size=(3, 3), stride=(1, 1), padding=(1, 1))\n",
       "        (Dense_0): Linear(in_features=512, out_features=256, bias=True)\n",
       "        (GroupNorm_1): GroupNorm(32, 256, eps=1e-06, affine=True)\n",
       "        (Dropout_0): Dropout(p=0.0, inplace=False)\n",
       "        (Conv_1): Conv2d(256, 256, kernel_size=(3, 3), stride=(1, 1), padding=(1, 1))\n",
       "        (act): SiLU()\n",
       "      )\n",
       "      (11): ResnetBlockBigGANpp(\n",
       "        (GroupNorm_0): GroupNorm(32, 256, eps=1e-06, affine=True)\n",
       "        (Conv_0): Conv2d(256, 256, kernel_size=(3, 3), stride=(1, 1), padding=(1, 1))\n",
       "        (Dense_0): Linear(in_features=512, out_features=256, bias=True)\n",
       "        (GroupNorm_1): GroupNorm(32, 256, eps=1e-06, affine=True)\n",
       "        (Dropout_0): Dropout(p=0.0, inplace=False)\n",
       "        (Conv_1): Conv2d(256, 256, kernel_size=(3, 3), stride=(1, 1), padding=(1, 1))\n",
       "        (Conv_2): Conv2d(256, 256, kernel_size=(1, 1), stride=(1, 1))\n",
       "        (act): SiLU()\n",
       "      )\n",
       "      (12): Combine(\n",
       "        (Conv_0): Conv2d(2, 256, kernel_size=(1, 1), stride=(1, 1))\n",
       "      )\n",
       "      (13): ResnetBlockBigGANpp(\n",
       "        (GroupNorm_0): GroupNorm(32, 256, eps=1e-06, affine=True)\n",
       "        (Conv_0): Conv2d(256, 256, kernel_size=(3, 3), stride=(1, 1), padding=(1, 1))\n",
       "        (Dense_0): Linear(in_features=512, out_features=256, bias=True)\n",
       "        (GroupNorm_1): GroupNorm(32, 256, eps=1e-06, affine=True)\n",
       "        (Dropout_0): Dropout(p=0.0, inplace=False)\n",
       "        (Conv_1): Conv2d(256, 256, kernel_size=(3, 3), stride=(1, 1), padding=(1, 1))\n",
       "        (act): SiLU()\n",
       "      )\n",
       "      (14): ResnetBlockBigGANpp(\n",
       "        (GroupNorm_0): GroupNorm(32, 256, eps=1e-06, affine=True)\n",
       "        (Conv_0): Conv2d(256, 256, kernel_size=(3, 3), stride=(1, 1), padding=(1, 1))\n",
       "        (Dense_0): Linear(in_features=512, out_features=256, bias=True)\n",
       "        (GroupNorm_1): GroupNorm(32, 256, eps=1e-06, affine=True)\n",
       "        (Dropout_0): Dropout(p=0.0, inplace=False)\n",
       "        (Conv_1): Conv2d(256, 256, kernel_size=(3, 3), stride=(1, 1), padding=(1, 1))\n",
       "        (act): SiLU()\n",
       "      )\n",
       "      (15): AttnBlockpp(\n",
       "        (GroupNorm_0): GroupNorm(32, 256, eps=1e-06, affine=True)\n",
       "        (NIN_0): NIN()\n",
       "        (NIN_1): NIN()\n",
       "        (NIN_2): NIN()\n",
       "        (NIN_3): NIN()\n",
       "      )\n",
       "      (16): ResnetBlockBigGANpp(\n",
       "        (GroupNorm_0): GroupNorm(32, 256, eps=1e-06, affine=True)\n",
       "        (Conv_0): Conv2d(256, 256, kernel_size=(3, 3), stride=(1, 1), padding=(1, 1))\n",
       "        (Dense_0): Linear(in_features=512, out_features=256, bias=True)\n",
       "        (GroupNorm_1): GroupNorm(32, 256, eps=1e-06, affine=True)\n",
       "        (Dropout_0): Dropout(p=0.0, inplace=False)\n",
       "        (Conv_1): Conv2d(256, 256, kernel_size=(3, 3), stride=(1, 1), padding=(1, 1))\n",
       "        (act): SiLU()\n",
       "      )\n",
       "      (17): ResnetBlockBigGANpp(\n",
       "        (GroupNorm_0): GroupNorm(32, 512, eps=1e-06, affine=True)\n",
       "        (Conv_0): Conv2d(512, 256, kernel_size=(3, 3), stride=(1, 1), padding=(1, 1))\n",
       "        (Dense_0): Linear(in_features=512, out_features=256, bias=True)\n",
       "        (GroupNorm_1): GroupNorm(32, 256, eps=1e-06, affine=True)\n",
       "        (Dropout_0): Dropout(p=0.0, inplace=False)\n",
       "        (Conv_1): Conv2d(256, 256, kernel_size=(3, 3), stride=(1, 1), padding=(1, 1))\n",
       "        (Conv_2): Conv2d(512, 256, kernel_size=(1, 1), stride=(1, 1))\n",
       "        (act): SiLU()\n",
       "      )\n",
       "      (18): ResnetBlockBigGANpp(\n",
       "        (GroupNorm_0): GroupNorm(32, 512, eps=1e-06, affine=True)\n",
       "        (Conv_0): Conv2d(512, 256, kernel_size=(3, 3), stride=(1, 1), padding=(1, 1))\n",
       "        (Dense_0): Linear(in_features=512, out_features=256, bias=True)\n",
       "        (GroupNorm_1): GroupNorm(32, 256, eps=1e-06, affine=True)\n",
       "        (Dropout_0): Dropout(p=0.0, inplace=False)\n",
       "        (Conv_1): Conv2d(256, 256, kernel_size=(3, 3), stride=(1, 1), padding=(1, 1))\n",
       "        (Conv_2): Conv2d(512, 256, kernel_size=(1, 1), stride=(1, 1))\n",
       "        (act): SiLU()\n",
       "      )\n",
       "      (19): GroupNorm(32, 256, eps=1e-06, affine=True)\n",
       "      (20): Conv2d(256, 2, kernel_size=(3, 3), stride=(1, 1), padding=(1, 1))\n",
       "      (21): ResnetBlockBigGANpp(\n",
       "        (GroupNorm_0): GroupNorm(32, 256, eps=1e-06, affine=True)\n",
       "        (Conv_0): Conv2d(256, 256, kernel_size=(3, 3), stride=(1, 1), padding=(1, 1))\n",
       "        (Dense_0): Linear(in_features=512, out_features=256, bias=True)\n",
       "        (GroupNorm_1): GroupNorm(32, 256, eps=1e-06, affine=True)\n",
       "        (Dropout_0): Dropout(p=0.0, inplace=False)\n",
       "        (Conv_1): Conv2d(256, 256, kernel_size=(3, 3), stride=(1, 1), padding=(1, 1))\n",
       "        (Conv_2): Conv2d(256, 256, kernel_size=(1, 1), stride=(1, 1))\n",
       "        (act): SiLU()\n",
       "      )\n",
       "      (22): ResnetBlockBigGANpp(\n",
       "        (GroupNorm_0): GroupNorm(32, 512, eps=1e-06, affine=True)\n",
       "        (Conv_0): Conv2d(512, 256, kernel_size=(3, 3), stride=(1, 1), padding=(1, 1))\n",
       "        (Dense_0): Linear(in_features=512, out_features=256, bias=True)\n",
       "        (GroupNorm_1): GroupNorm(32, 256, eps=1e-06, affine=True)\n",
       "        (Dropout_0): Dropout(p=0.0, inplace=False)\n",
       "        (Conv_1): Conv2d(256, 256, kernel_size=(3, 3), stride=(1, 1), padding=(1, 1))\n",
       "        (Conv_2): Conv2d(512, 256, kernel_size=(1, 1), stride=(1, 1))\n",
       "        (act): SiLU()\n",
       "      )\n",
       "      (23): ResnetBlockBigGANpp(\n",
       "        (GroupNorm_0): GroupNorm(32, 512, eps=1e-06, affine=True)\n",
       "        (Conv_0): Conv2d(512, 256, kernel_size=(3, 3), stride=(1, 1), padding=(1, 1))\n",
       "        (Dense_0): Linear(in_features=512, out_features=256, bias=True)\n",
       "        (GroupNorm_1): GroupNorm(32, 256, eps=1e-06, affine=True)\n",
       "        (Dropout_0): Dropout(p=0.0, inplace=False)\n",
       "        (Conv_1): Conv2d(256, 256, kernel_size=(3, 3), stride=(1, 1), padding=(1, 1))\n",
       "        (Conv_2): Conv2d(512, 256, kernel_size=(1, 1), stride=(1, 1))\n",
       "        (act): SiLU()\n",
       "      )\n",
       "      (24): GroupNorm(32, 256, eps=1e-06, affine=True)\n",
       "      (25): Conv2d(256, 2, kernel_size=(3, 3), stride=(1, 1), padding=(1, 1))\n",
       "      (26): ResnetBlockBigGANpp(\n",
       "        (GroupNorm_0): GroupNorm(32, 256, eps=1e-06, affine=True)\n",
       "        (Conv_0): Conv2d(256, 256, kernel_size=(3, 3), stride=(1, 1), padding=(1, 1))\n",
       "        (Dense_0): Linear(in_features=512, out_features=256, bias=True)\n",
       "        (GroupNorm_1): GroupNorm(32, 256, eps=1e-06, affine=True)\n",
       "        (Dropout_0): Dropout(p=0.0, inplace=False)\n",
       "        (Conv_1): Conv2d(256, 256, kernel_size=(3, 3), stride=(1, 1), padding=(1, 1))\n",
       "        (Conv_2): Conv2d(256, 256, kernel_size=(1, 1), stride=(1, 1))\n",
       "        (act): SiLU()\n",
       "      )\n",
       "      (27): ResnetBlockBigGANpp(\n",
       "        (GroupNorm_0): GroupNorm(32, 512, eps=1e-06, affine=True)\n",
       "        (Conv_0): Conv2d(512, 256, kernel_size=(3, 3), stride=(1, 1), padding=(1, 1))\n",
       "        (Dense_0): Linear(in_features=512, out_features=256, bias=True)\n",
       "        (GroupNorm_1): GroupNorm(32, 256, eps=1e-06, affine=True)\n",
       "        (Dropout_0): Dropout(p=0.0, inplace=False)\n",
       "        (Conv_1): Conv2d(256, 256, kernel_size=(3, 3), stride=(1, 1), padding=(1, 1))\n",
       "        (Conv_2): Conv2d(512, 256, kernel_size=(1, 1), stride=(1, 1))\n",
       "        (act): SiLU()\n",
       "      )\n",
       "      (28): ResnetBlockBigGANpp(\n",
       "        (GroupNorm_0): GroupNorm(32, 384, eps=1e-06, affine=True)\n",
       "        (Conv_0): Conv2d(384, 256, kernel_size=(3, 3), stride=(1, 1), padding=(1, 1))\n",
       "        (Dense_0): Linear(in_features=512, out_features=256, bias=True)\n",
       "        (GroupNorm_1): GroupNorm(32, 256, eps=1e-06, affine=True)\n",
       "        (Dropout_0): Dropout(p=0.0, inplace=False)\n",
       "        (Conv_1): Conv2d(256, 256, kernel_size=(3, 3), stride=(1, 1), padding=(1, 1))\n",
       "        (Conv_2): Conv2d(384, 256, kernel_size=(1, 1), stride=(1, 1))\n",
       "        (act): SiLU()\n",
       "      )\n",
       "      (29): GroupNorm(32, 256, eps=1e-06, affine=True)\n",
       "      (30): Conv2d(256, 2, kernel_size=(3, 3), stride=(1, 1), padding=(1, 1))\n",
       "      (31): ResnetBlockBigGANpp(\n",
       "        (GroupNorm_0): GroupNorm(32, 256, eps=1e-06, affine=True)\n",
       "        (Conv_0): Conv2d(256, 256, kernel_size=(3, 3), stride=(1, 1), padding=(1, 1))\n",
       "        (Dense_0): Linear(in_features=512, out_features=256, bias=True)\n",
       "        (GroupNorm_1): GroupNorm(32, 256, eps=1e-06, affine=True)\n",
       "        (Dropout_0): Dropout(p=0.0, inplace=False)\n",
       "        (Conv_1): Conv2d(256, 256, kernel_size=(3, 3), stride=(1, 1), padding=(1, 1))\n",
       "        (Conv_2): Conv2d(256, 256, kernel_size=(1, 1), stride=(1, 1))\n",
       "        (act): SiLU()\n",
       "      )\n",
       "      (32): ResnetBlockBigGANpp(\n",
       "        (GroupNorm_0): GroupNorm(32, 384, eps=1e-06, affine=True)\n",
       "        (Conv_0): Conv2d(384, 128, kernel_size=(3, 3), stride=(1, 1), padding=(1, 1))\n",
       "        (Dense_0): Linear(in_features=512, out_features=128, bias=True)\n",
       "        (GroupNorm_1): GroupNorm(32, 128, eps=1e-06, affine=True)\n",
       "        (Dropout_0): Dropout(p=0.0, inplace=False)\n",
       "        (Conv_1): Conv2d(128, 128, kernel_size=(3, 3), stride=(1, 1), padding=(1, 1))\n",
       "        (Conv_2): Conv2d(384, 128, kernel_size=(1, 1), stride=(1, 1))\n",
       "        (act): SiLU()\n",
       "      )\n",
       "      (33): ResnetBlockBigGANpp(\n",
       "        (GroupNorm_0): GroupNorm(32, 256, eps=1e-06, affine=True)\n",
       "        (Conv_0): Conv2d(256, 128, kernel_size=(3, 3), stride=(1, 1), padding=(1, 1))\n",
       "        (Dense_0): Linear(in_features=512, out_features=128, bias=True)\n",
       "        (GroupNorm_1): GroupNorm(32, 128, eps=1e-06, affine=True)\n",
       "        (Dropout_0): Dropout(p=0.0, inplace=False)\n",
       "        (Conv_1): Conv2d(128, 128, kernel_size=(3, 3), stride=(1, 1), padding=(1, 1))\n",
       "        (Conv_2): Conv2d(256, 128, kernel_size=(1, 1), stride=(1, 1))\n",
       "        (act): SiLU()\n",
       "      )\n",
       "      (34): GroupNorm(32, 128, eps=1e-06, affine=True)\n",
       "      (35): Conv2d(128, 2, kernel_size=(3, 3), stride=(1, 1), padding=(1, 1))\n",
       "    )\n",
       "  )\n",
       ")"
      ]
     },
     "execution_count": 21,
     "metadata": {},
     "output_type": "execute_result"
    }
   ],
   "source": [
    "import numpy as np\n",
    "import glob\n",
    "\n",
    "from tqdm import tqdm\n",
    "from torchaudio import load, save\n",
    "import torch\n",
    "import os\n",
    "from argparse import ArgumentParser\n",
    "\n",
    "from sgmse.backbones.shared import BackboneRegistry\n",
    "from sgmse.data_module import SpecsDataModule\n",
    "from sgmse.sdes import SDERegistry\n",
    "from sgmse.sampling import PredictorRegistry, CorrectorRegistry, OperatorRegistry, PosteriorRegistry, SchedulerRegistry, PosteriorRegistry\n",
    "from sgmse.model import ScoreModel\n",
    "from sgmse.util.other import *\n",
    "from sgmse.util.graphics import *\n",
    "\n",
    "import matplotlib.pyplot as plt\n",
    "\n",
    "test_dir = \"/data/lemercier/databases/wsj0_derev_with_rir/audio/tt/clean\"\n",
    "\n",
    "# ckpt = \"/export/home/lemercier/code/_public_repos/derevdps/.logs/sde=EDM_backbone=ncsnpp_data=wsj0_ch=1/version_6/checkpoints/epoch=63.ckpt\"\n",
    "# enhanced_dir = \".exp/test_edm\"\n",
    "# # kwargs = dict(sampler_type=\"karras\", probability_flow=True, N=50, scheduler=\"edm\",\n",
    "# kwargs = dict(sampler_type=\"song\", probability_flow=True, N=50, scheduler=\"edm\",\n",
    "#         # predictor=\"euler-heun\",\n",
    "#         predictor=\"euler-maruyama\",\n",
    "#         posterior=\"none\", operator=None, A=None, zeta=0., zeta_schedule=\"none\",\n",
    "#         # corrector=\"none\", r=0., corrector_steps=0, \n",
    "#         corrector=\"ald\", r=0.4, corrector_steps=1, \n",
    "#         noise_std=1.007, smin=0., smax=0., churn=0.\n",
    "# )\n",
    "\n",
    "ckpt = \"/export/home/lemercier/code/_public_repos/derevdps/.logs/sde=VESDE_backbone=ncsnpp_data=wsj0_ch=1/version_3/checkpoints/epoch=297.ckpt\"\n",
    "# enhanced_dir = \".exp/test_song\"\n",
    "# enhanced_dir = \".exp/test_song_karrassampler_nocorr_em\"\n",
    "# enhanced_dir = \".exp/test_song_songsampler_corr_em\"\n",
    "enhanced_dir = \".exp/test_song_karrassampler_nocorr_eh\"\n",
    "kwargs = dict(sampler_type=\"karras\", probability_flow=True, N=50, scheduler=\"ve\",\n",
    "# kwargs = dict(sampler_type=\"song\", probability_flow=True, N=50, scheduler=\"ve\",\n",
    "        predictor=\"euler-heun\",\n",
    "        # predictor=\"euler-maruyama\",\n",
    "        posterior=\"none\", operator=None, A=None, zeta=0., zeta_schedule=\"none\",\n",
    "        # corrector=\"ald\", r=0.4, corrector_steps=1, \n",
    "        corrector=\"none\", r=0., corrector_steps=0, \n",
    ")\n",
    "\n",
    "os.makedirs(enhanced_dir, exist_ok=True)\n",
    "\n",
    "# Load score model\n",
    "model = ScoreModel.load_from_checkpoint(ckpt)\n",
    "model.eval(no_ema=False)\n",
    "torch.cuda.set_device(f'cuda:0')\n",
    "model.cuda()"
   ]
  },
  {
   "cell_type": "code",
   "execution_count": 6,
   "metadata": {},
   "outputs": [
    {
     "name": "stdout",
     "output_type": "stream",
     "text": [
      "tensor(0.5000, device='cuda:0') tensor(2.4248, device='cuda:0') tensor(0.3102, device='cuda:0')\n",
      "tensor(0.5556, device='cuda:0') tensor(2.4248, device='cuda:0') tensor(0.5517, device='cuda:0')\n",
      "tensor(0.6111, device='cuda:0') tensor(2.4248, device='cuda:0') tensor(0.9393, device='cuda:0')\n",
      "tensor(0.6667, device='cuda:0') tensor(2.4248, device='cuda:0') tensor(1.5401, device='cuda:0')\n",
      "tensor(0.7222, device='cuda:0') tensor(2.4248, device='cuda:0') tensor(2.4442, device='cuda:0')\n",
      "tensor(0.7778, device='cuda:0') tensor(2.4248, device='cuda:0') tensor(3.7697, device='cuda:0')\n",
      "tensor(0.8333, device='cuda:0') tensor(2.4248, device='cuda:0') tensor(5.6690, device='cuda:0')\n",
      "tensor(0.8889, device='cuda:0') tensor(2.4248, device='cuda:0') tensor(8.3356, device='cuda:0')\n",
      "tensor(0.9444, device='cuda:0') tensor(2.4248, device='cuda:0') tensor(12.0124, device='cuda:0')\n",
      "tensor(1., device='cuda:0') tensor(2.4248, device='cuda:0') tensor(17.0000, device='cuda:0')\n"
     ]
    }
   ],
   "source": [
    "### Estimating Tweedie Denoiser ###\n",
    "\n",
    "files = sorted(glob.glob(os.path.join(test_dir, \"*.wav\")))[: 1]\n",
    "\n",
    "with torch.no_grad():\n",
    "    for f in files:\n",
    "        x_audio, _ = torchaudio.load(f)\n",
    "        norm_factor = x_audio.abs().max()\n",
    "        x = model._forward_transform(model._stft(x_audio/norm_factor)).unsqueeze(0).cuda()\n",
    "        x = pad_spec(x)\n",
    "\n",
    "        for t in torch.linspace(0.5, 1, 10).cuda():\n",
    "            sigma = model.sde.scheduler.continuous_step(t)\n",
    "            # sigma = t\n",
    "            mean, std = model.sde.marginal_prob(x, sigma, None)\n",
    "            print(t, mean.abs().max(), std)\n",
    "            z = torch.randn_like(x)\n",
    "            if std.ndim < x.ndim:\n",
    "                std = std.view(*std.size(), *((1,)*(x.ndim - std.ndim)))\n",
    "            y = mean + std * z\n",
    "\n",
    "            tweedie = model(y, sigma, score_conditioning=[])\n",
    "            tweedie_audio = model.to_audio(tweedie.squeeze(0), x_audio.size(-1))\n",
    "            y_audio = model.to_audio(y.squeeze(0), x_audio.size(-1))\n",
    "\n",
    "            visualize_one(x, spec_path=enhanced_dir, name=f\"{t:.2f}_x\")\n",
    "            visualize_one(tweedie, spec_path=enhanced_dir, name=f\"{t:.2f}_tweedie\")\n",
    "            visualize_one(y, spec_path=enhanced_dir, name=f\"{t:.2f}_noisy\")\n",
    "\n",
    "            torchaudio.save(f'{enhanced_dir}/{os.path.basename(f)[: -4]}_{t:.2f}_tweedie.wav', tweedie_audio.type(torch.float32).cpu().squeeze().unsqueeze(0), 16000)\n",
    "            torchaudio.save(f'{enhanced_dir}/{os.path.basename(f)[: -4]}_{t:.2f}_noisy.wav', y_audio.type(torch.float32).cpu().squeeze().unsqueeze(0), 16000)\n",
    "        \n",
    "        torchaudio.save(f'{enhanced_dir}/{os.path.basename(f)}', x_audio.type(torch.float32).cpu().squeeze().unsqueeze(0), 16000)\n",
    "        "
   ]
  },
  {
   "cell_type": "code",
   "execution_count": 22,
   "metadata": {},
   "outputs": [
    {
     "name": "stderr",
     "output_type": "stream",
     "text": [
      "  0%|          | 0/50 [00:00<?, ?it/s]"
     ]
    },
    {
     "name": "stdout",
     "output_type": "stream",
     "text": [
      "tensor(0.8200)\n",
      "tensor(0.8200) tensor([1.2852], device='cuda:0')\n"
     ]
    },
    {
     "name": "stderr",
     "output_type": "stream",
     "text": [
      "100%|██████████| 50/50 [00:12<00:00,  4.02it/s, distance=0]\n"
     ]
    },
    {
     "name": "stdout",
     "output_type": "stream",
     "text": [
      "tensor(0.0141)\n"
     ]
    },
    {
     "name": "stderr",
     "output_type": "stream",
     "text": [
      "  0%|          | 0/50 [00:00<?, ?it/s]"
     ]
    },
    {
     "name": "stdout",
     "output_type": "stream",
     "text": [
      "tensor(0.8222)\n",
      "tensor(0.8222) tensor([1.3268], device='cuda:0')\n"
     ]
    },
    {
     "name": "stderr",
     "output_type": "stream",
     "text": [
      "100%|██████████| 50/50 [00:13<00:00,  3.75it/s, distance=0]\n"
     ]
    },
    {
     "name": "stdout",
     "output_type": "stream",
     "text": [
      "tensor(0.0332)\n"
     ]
    },
    {
     "name": "stderr",
     "output_type": "stream",
     "text": [
      "  0%|          | 0/50 [00:00<?, ?it/s]"
     ]
    },
    {
     "name": "stdout",
     "output_type": "stream",
     "text": [
      "tensor(0.8244)\n",
      "tensor(0.8244) tensor([1.3698], device='cuda:0')\n"
     ]
    },
    {
     "name": "stderr",
     "output_type": "stream",
     "text": [
      "100%|██████████| 50/50 [00:13<00:00,  3.81it/s, distance=0]\n"
     ]
    },
    {
     "name": "stdout",
     "output_type": "stream",
     "text": [
      "tensor(0.0178)\n"
     ]
    },
    {
     "name": "stderr",
     "output_type": "stream",
     "text": [
      "  0%|          | 0/50 [00:00<?, ?it/s]"
     ]
    },
    {
     "name": "stdout",
     "output_type": "stream",
     "text": [
      "tensor(0.8267)\n",
      "tensor(0.8267) tensor([1.4142], device='cuda:0')\n"
     ]
    },
    {
     "name": "stderr",
     "output_type": "stream",
     "text": [
      "100%|██████████| 50/50 [00:13<00:00,  3.82it/s, distance=0]\n"
     ]
    },
    {
     "name": "stdout",
     "output_type": "stream",
     "text": [
      "tensor(1.3523)\n"
     ]
    },
    {
     "name": "stderr",
     "output_type": "stream",
     "text": [
      "  0%|          | 0/50 [00:00<?, ?it/s]"
     ]
    },
    {
     "name": "stdout",
     "output_type": "stream",
     "text": [
      "tensor(0.8289)\n",
      "tensor(0.8289) tensor([1.4600], device='cuda:0')\n"
     ]
    },
    {
     "name": "stderr",
     "output_type": "stream",
     "text": [
      "100%|██████████| 50/50 [00:13<00:00,  3.75it/s, distance=0]\n"
     ]
    },
    {
     "name": "stdout",
     "output_type": "stream",
     "text": [
      "tensor(0.0935)\n"
     ]
    },
    {
     "name": "stderr",
     "output_type": "stream",
     "text": [
      "  0%|          | 0/50 [00:00<?, ?it/s]"
     ]
    },
    {
     "name": "stdout",
     "output_type": "stream",
     "text": [
      "tensor(0.8311)\n",
      "tensor(0.8311) tensor([1.5073], device='cuda:0')\n"
     ]
    },
    {
     "name": "stderr",
     "output_type": "stream",
     "text": [
      "100%|██████████| 50/50 [00:13<00:00,  3.79it/s, distance=0]\n"
     ]
    },
    {
     "name": "stdout",
     "output_type": "stream",
     "text": [
      "tensor(0.0183)\n"
     ]
    },
    {
     "name": "stderr",
     "output_type": "stream",
     "text": [
      "  0%|          | 0/50 [00:00<?, ?it/s]"
     ]
    },
    {
     "name": "stdout",
     "output_type": "stream",
     "text": [
      "tensor(0.8333)\n",
      "tensor(0.8333) tensor([1.5561], device='cuda:0')\n"
     ]
    },
    {
     "name": "stderr",
     "output_type": "stream",
     "text": [
      "100%|██████████| 50/50 [00:13<00:00,  3.69it/s, distance=0]\n"
     ]
    },
    {
     "name": "stdout",
     "output_type": "stream",
     "text": [
      "tensor(0.3224)\n"
     ]
    },
    {
     "name": "stderr",
     "output_type": "stream",
     "text": [
      "  0%|          | 0/50 [00:00<?, ?it/s]"
     ]
    },
    {
     "name": "stdout",
     "output_type": "stream",
     "text": [
      "tensor(0.8356)\n",
      "tensor(0.8356) tensor([1.6065], device='cuda:0')\n"
     ]
    },
    {
     "name": "stderr",
     "output_type": "stream",
     "text": [
      "100%|██████████| 50/50 [00:13<00:00,  3.73it/s, distance=0]\n"
     ]
    },
    {
     "name": "stdout",
     "output_type": "stream",
     "text": [
      "tensor(0.7442)\n"
     ]
    },
    {
     "name": "stderr",
     "output_type": "stream",
     "text": [
      "  0%|          | 0/50 [00:00<?, ?it/s]"
     ]
    },
    {
     "name": "stdout",
     "output_type": "stream",
     "text": [
      "tensor(0.8378)\n",
      "tensor(0.8378) tensor([1.6586], device='cuda:0')\n"
     ]
    },
    {
     "name": "stderr",
     "output_type": "stream",
     "text": [
      "100%|██████████| 50/50 [00:13<00:00,  3.69it/s, distance=0]\n"
     ]
    },
    {
     "name": "stdout",
     "output_type": "stream",
     "text": [
      "tensor(0.3733)\n"
     ]
    },
    {
     "name": "stderr",
     "output_type": "stream",
     "text": [
      "  0%|          | 0/50 [00:00<?, ?it/s]"
     ]
    },
    {
     "name": "stdout",
     "output_type": "stream",
     "text": [
      "tensor(0.8400)\n",
      "tensor(0.8400) tensor([1.7123], device='cuda:0')\n"
     ]
    },
    {
     "name": "stderr",
     "output_type": "stream",
     "text": [
      "100%|██████████| 50/50 [00:13<00:00,  3.65it/s, distance=0]\n"
     ]
    },
    {
     "name": "stdout",
     "output_type": "stream",
     "text": [
      "tensor(0.5454)\n"
     ]
    }
   ],
   "source": [
    "### Unconditional Sampling ###\n",
    "\n",
    "N = 1\n",
    "len_signal = 4.\n",
    "\n",
    "with torch.no_grad():\n",
    "    for n in range(N):\n",
    "        y = torch.zeros(1, int(len_signal*model.data_module.sample_rate)).cuda()\n",
    "        # for t in torch.linspace(0.5, 1, 10):\n",
    "        for t in torch.linspace(0.82, 0.84, 10):\n",
    "        # for t in torch.linspace(0.8, 0.82, 10):\n",
    "        # for t in torch.linspace(0.85, 0.9, 5):\n",
    "            model.sde.set_T(t)\n",
    "            print(model.sde.T)\n",
    "            x = model.unconditional_sampling(y, **kwargs)\n",
    "            print(x.abs().max())\n",
    "            x /= x.abs().max()\n",
    "\n",
    "\n",
    "            visualize_one(model._stft(x), spec_path=enhanced_dir, name=f\"{n}_{t:.3f}\")\n",
    "            torchaudio.save(f'{enhanced_dir}/{n}_{t:.3f}.wav', x.type(torch.float32).cpu().squeeze().unsqueeze(0), 16000)"
   ]
  }
 ],
 "metadata": {
  "kernelspec": {
   "display_name": "Python 3 (ipykernel)",
   "language": "python",
   "name": "python3"
  },
  "language_info": {
   "codemirror_mode": {
    "name": "ipython",
    "version": 3
   },
   "file_extension": ".py",
   "mimetype": "text/x-python",
   "name": "python",
   "nbconvert_exporter": "python",
   "pygments_lexer": "ipython3",
   "version": "3.7.4"
  }
 },
 "nbformat": 4,
 "nbformat_minor": 2
}
